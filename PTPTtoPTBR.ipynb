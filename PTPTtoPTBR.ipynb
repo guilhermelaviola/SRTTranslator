{
  "nbformat": 4,
  "nbformat_minor": 0,
  "metadata": {
    "colab": {
      "provenance": [],
      "authorship_tag": "ABX9TyPI46jVaIO6BhBVocFixeLM",
      "include_colab_link": true
    },
    "kernelspec": {
      "name": "python3",
      "display_name": "Python 3"
    },
    "language_info": {
      "name": "python"
    }
  },
  "cells": [
    {
      "cell_type": "markdown",
      "metadata": {
        "id": "view-in-github",
        "colab_type": "text"
      },
      "source": [
        "<a href=\"https://colab.research.google.com/github/guilhermelaviola/SRTTranslator/blob/main/PTPTtoPTBR.ipynb\" target=\"_parent\"><img src=\"https://colab.research.google.com/assets/colab-badge.svg\" alt=\"Open In Colab\"/></a>"
      ]
    },
    {
      "cell_type": "code",
      "execution_count": 5,
      "metadata": {
        "colab": {
          "base_uri": "https://localhost:8080/"
        },
        "id": "JBTE7-SaigfY",
        "outputId": "71744350-ef1f-4a13-ccc5-70bfc71f3e68"
      },
      "outputs": [
        {
          "output_type": "stream",
          "name": "stdout",
          "text": [
            "\u001b[31mERROR: Could not find a version that satisfies the requirement googletrans==3.1.0 (from versions: 2.0.0, 2.1.0, 2.1.1, 2.1.2, 2.1.3, 2.1.4, 2.2.0, 2.3.0, 2.4.0, 3.0.0, 3.1.0a0, 4.0.0rc1, 4.0.1, 4.0.2)\u001b[0m\u001b[31m\n",
            "\u001b[0m\u001b[31mERROR: No matching distribution found for googletrans==3.1.0\u001b[0m\u001b[31m\n",
            "\u001b[0m"
          ]
        }
      ],
      "source": [
        "pip install googletrans==3.1.0"
      ]
    },
    {
      "cell_type": "code",
      "source": [
        "from googletrans import Translator\n",
        "\n",
        "def translate_srt_pt_to_br(input_path, output_path):\n",
        "    translator = Translator()\n",
        "\n",
        "    with open(input_path, 'r', encoding='utf-8') as file:\n",
        "        lines = file.readlines()\n",
        "\n",
        "    translated_lines = []\n",
        "    for line in lines:\n",
        "        # Skip numbers and timestamps\n",
        "        if line.strip() and not line.strip().isdigit() and '-->' not in line:\n",
        "            try:\n",
        "                # Use 'pt' as the destination language, which defaults to Brazilian Portuguese\n",
        "                result = translator.translate(line.strip(), src='pt', dest='pt').text\n",
        "                translated_lines.append(result + '\\n')\n",
        "            except Exception as e:\n",
        "                print(f\"Error translating line: {line.strip()} - {e}\")\n",
        "                translated_lines.append(line) # Keep the original line if translation fails\n",
        "        else:\n",
        "            translated_lines.append(line)\n",
        "\n",
        "    with open(output_path, 'w', encoding='utf-8') as file:\n",
        "        file.writelines(translated_lines)\n",
        "\n",
        "    print(f\"✅ Translation to Brazilian Portuguese saved at: {output_path}\")\n",
        "\n",
        "# Example usage\n",
        "translate_srt_pt_to_br('Flipper.1996.1080p.BluRay.REMUX.VC-1.DTS-HD.MA.5.1-Skoops.srt', 'legenda_pt-BR.srt')"
      ],
      "metadata": {
        "id": "yxgbof7nimlG"
      },
      "execution_count": null,
      "outputs": []
    }
  ]
}