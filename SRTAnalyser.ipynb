{
  "nbformat": 4,
  "nbformat_minor": 0,
  "metadata": {
    "colab": {
      "provenance": [],
      "authorship_tag": "ABX9TyO7YlhqxDuaflFk29PDwwZ5",
      "include_colab_link": true
    },
    "kernelspec": {
      "name": "python3",
      "display_name": "Python 3"
    },
    "language_info": {
      "name": "python"
    }
  },
  "cells": [
    {
      "cell_type": "markdown",
      "metadata": {
        "id": "view-in-github",
        "colab_type": "text"
      },
      "source": [
        "<a href=\"https://colab.research.google.com/github/guilhermelaviola/SRTTranslator/blob/main/SRTAnalyser.ipynb\" target=\"_parent\"><img src=\"https://colab.research.google.com/assets/colab-badge.svg\" alt=\"Open In Colab\"/></a>"
      ]
    },
    {
      "cell_type": "code",
      "source": [
        "# Importing all the necessary libraries:\n",
        "import re\n",
        "from datetime import timedelta"
      ],
      "metadata": {
        "id": "mGN30DljkZXf"
      },
      "execution_count": 4,
      "outputs": []
    },
    {
      "cell_type": "code",
      "source": [
        "# Parsing the .srt file:\n",
        "def parse_srt(file_path):\n",
        "    with open(file_path, 'r', encoding='utf-8-sig') as file: # Changed encoding to 'utf-8-sig'\n",
        "        content = file.read()\n",
        "\n",
        "    # Spliting the file into blocks:\n",
        "    blocks = content.strip().split(\"\\n\\n\")\n",
        "\n",
        "    subtitles = []\n",
        "    for block in blocks:\n",
        "        lines = block.split(\"\\n\")\n",
        "\n",
        "        # Extracting sequence number, timestamp, and text:\n",
        "        sequence_number = int(lines[0])\n",
        "        timestamp = lines[1]\n",
        "        text = \" \".join(lines[2:])\n",
        "\n",
        "        # Parsing timestamps:\n",
        "        start_time, end_time = map(parse_timestamp, timestamp.split(\" --> \"))\n",
        "\n",
        "        subtitles.append({\n",
        "            'sequence': sequence_number,\n",
        "            'start_time': start_time,\n",
        "            'end_time': end_time,\n",
        "            'text': text,\n",
        "        })\n",
        "\n",
        "    return subtitles"
      ],
      "metadata": {
        "id": "fI-J5JDEkmTb"
      },
      "execution_count": 10,
      "outputs": []
    },
    {
      "cell_type": "code",
      "source": [
        "# Parsing timestamp:\n",
        "def parse_timestamp(timestamp):\n",
        "    # Splitting the timestamp using regex ensuring only 3 groups are captured\n",
        "    match = re.match(r'(\\d+):(\\d+):(\\d+[,]\\d+)', timestamp)\n",
        "    if match:\n",
        "        hours, minutes, seconds = match.groups()\n",
        "        # Extracting seconds and milliseconds\n",
        "        seconds, milliseconds = map(int, seconds.split(','))\n",
        "        return timedelta(hours=int(hours), minutes=int(minutes), seconds=seconds, milliseconds=milliseconds)\n",
        "    else:\n",
        "        # Handling cases where timestamp format is unexpected\n",
        "        print(f\"Warning: Invalid timestamp format: {timestamp}\")\n",
        "        return timedelta()  # Returning a zero timedelta for invalid timestamps"
      ],
      "metadata": {
        "id": "a8YtdtV-mdRz"
      },
      "execution_count": 14,
      "outputs": []
    },
    {
      "cell_type": "code",
      "source": [
        "# Analysing the .srt file:\n",
        "def analyze_srt(subtitles):\n",
        "    total_duration = timedelta()\n",
        "    word_count = 0\n",
        "\n",
        "    for sub in subtitles:\n",
        "        duration = sub['end_time'] - sub['start_time']\n",
        "        total_duration += duration\n",
        "\n",
        "        word_count += len(sub['text'].split())\n",
        "\n",
        "    print(f\"Total Duration: {total_duration}\")\n",
        "    print(f\"Total Word Count: {word_count}\")"
      ],
      "metadata": {
        "id": "klAZTCvImhzk"
      },
      "execution_count": 15,
      "outputs": []
    },
    {
      "cell_type": "code",
      "source": [
        "# Testing:\n",
        "file_path = \"All the Little Animals (1998) - EN.srt\"\n",
        "subtitles = parse_srt(file_path)\n",
        "analyze_srt(subtitles)"
      ],
      "metadata": {
        "id": "QIPwW-RcmrU6",
        "outputId": "f9c6fcf3-3625-4680-c4f1-d7e936f83dcc",
        "colab": {
          "base_uri": "https://localhost:8080/"
        }
      },
      "execution_count": 16,
      "outputs": [
        {
          "output_type": "stream",
          "name": "stdout",
          "text": [
            "Total Duration: 0:38:21.544000\n",
            "Total Word Count: 6114\n"
          ]
        }
      ]
    }
  ]
}